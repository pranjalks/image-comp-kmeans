{
 "cells": [
  {
   "cell_type": "code",
   "execution_count": 15,
   "metadata": {},
   "outputs": [],
   "source": [
    "import imageio\n",
    "import numpy as np\n",
    "from sklearn.cluster import KMeans"
   ]
  },
  {
   "cell_type": "code",
   "execution_count": 16,
   "metadata": {},
   "outputs": [
    {
     "data": {
      "text/plain": [
       "Array([[[  3, 155, 231],\n",
       "        [  3, 156, 232],\n",
       "        [  4, 157, 233],\n",
       "        ...,\n",
       "        [  3, 138, 228],\n",
       "        [  4, 139, 229],\n",
       "        [  4, 139, 229]],\n",
       "\n",
       "       [[  3, 156, 232],\n",
       "        [  4, 157, 233],\n",
       "        [  5, 158, 234],\n",
       "        ...,\n",
       "        [  3, 138, 228],\n",
       "        [  3, 138, 228],\n",
       "        [  3, 138, 228]],\n",
       "\n",
       "       [[  2, 158, 233],\n",
       "        [  3, 159, 234],\n",
       "        [  4, 160, 235],\n",
       "        ...,\n",
       "        [  3, 138, 228],\n",
       "        [  2, 137, 227],\n",
       "        [  2, 137, 227]],\n",
       "\n",
       "       ...,\n",
       "\n",
       "       [[127, 130,  53],\n",
       "        [131, 136,  46],\n",
       "        [141, 141,  51],\n",
       "        ...,\n",
       "        [ 19,  32,   0],\n",
       "        [ 22,  29,  13],\n",
       "        [ 31,  40,  11]],\n",
       "\n",
       "       [[ 53,  57,   6],\n",
       "        [117, 125,  48],\n",
       "        [125, 131,  41],\n",
       "        ...,\n",
       "        [ 64,  85,  16],\n",
       "        [ 39,  51,  15],\n",
       "        [ 38,  48,  11]],\n",
       "\n",
       "       [[122, 140,  58],\n",
       "        [147, 165,  66],\n",
       "        [111, 126,  33],\n",
       "        ...,\n",
       "        [ 35,  55,  20],\n",
       "        [  9,  21,   7],\n",
       "        [  5,  16,   2]]], dtype=uint8)"
      ]
     },
     "execution_count": 16,
     "metadata": {},
     "output_type": "execute_result"
    }
   ],
   "source": [
    "#Read the image to be compressed\n",
    "image = imageio.imread('image.jpg')\n",
    "image"
   ]
  },
  {
   "cell_type": "code",
   "execution_count": 17,
   "metadata": {},
   "outputs": [
    {
     "data": {
      "text/plain": [
       "432"
      ]
     },
     "execution_count": 17,
     "metadata": {},
     "output_type": "execute_result"
    }
   ],
   "source": [
    "rows = image.shape[0]\n",
    "rows"
   ]
  },
  {
   "cell_type": "code",
   "execution_count": 18,
   "metadata": {},
   "outputs": [
    {
     "data": {
      "text/plain": [
       "1028"
      ]
     },
     "execution_count": 18,
     "metadata": {},
     "output_type": "execute_result"
    }
   ],
   "source": [
    "cols = image.shape[1]\n",
    "cols"
   ]
  },
  {
   "cell_type": "code",
   "execution_count": 19,
   "metadata": {},
   "outputs": [
    {
     "data": {
      "text/plain": [
       "Array([[  3, 155, 231],\n",
       "       [  3, 156, 232],\n",
       "       [  4, 157, 233],\n",
       "       ...,\n",
       "       [ 35,  55,  20],\n",
       "       [  9,  21,   7],\n",
       "       [  5,  16,   2]], dtype=uint8)"
      ]
     },
     "execution_count": 19,
     "metadata": {},
     "output_type": "execute_result"
    }
   ],
   "source": [
    "#Reshape the image and flatten it\n",
    "image = image.reshape(rows*cols, 3)\n",
    "image"
   ]
  },
  {
   "cell_type": "code",
   "execution_count": 20,
   "metadata": {},
   "outputs": [],
   "source": [
    "#Initialise the KMeans clustering object\n",
    "#Increasing the n_clusters reduces the size of the image at the cost of reduced quality\n",
    "kmeans = KMeans(n_clusters = 64)"
   ]
  },
  {
   "cell_type": "code",
   "execution_count": 21,
   "metadata": {},
   "outputs": [
    {
     "data": {
      "text/plain": [
       "KMeans(n_clusters=64)"
      ]
     },
     "execution_count": 21,
     "metadata": {},
     "output_type": "execute_result"
    }
   ],
   "source": [
    "#Train the model on the image\n",
    "kmeans.fit(image)"
   ]
  },
  {
   "cell_type": "code",
   "execution_count": 22,
   "metadata": {},
   "outputs": [
    {
     "data": {
      "text/plain": [
       "array([[  2, 148, 228],\n",
       "       [  3, 161, 231],\n",
       "       [  3, 161, 231],\n",
       "       ...,\n",
       "       [ 46,  61,  25],\n",
       "       [ 11,  27,   9],\n",
       "       [  2,   9,   4]], dtype=uint8)"
      ]
     },
     "execution_count": 22,
     "metadata": {},
     "output_type": "execute_result"
    }
   ],
   "source": [
    "#Assign every point to its assigned cluster\n",
    "compressed_image = kmeans.cluster_centers_[kmeans.labels_]\n",
    "compressed_image = np.clip(compressed_image.astype('uint8'), 0, 255)\n",
    "compressed_image"
   ]
  },
  {
   "cell_type": "code",
   "execution_count": 23,
   "metadata": {},
   "outputs": [
    {
     "data": {
      "text/plain": [
       "array([[[  2, 148, 228],\n",
       "        [  3, 161, 231],\n",
       "        [  3, 161, 231],\n",
       "        ...,\n",
       "        [  2, 134, 225],\n",
       "        [  2, 134, 225],\n",
       "        [  2, 134, 225]],\n",
       "\n",
       "       [[  3, 161, 231],\n",
       "        [  3, 161, 231],\n",
       "        [  3, 161, 231],\n",
       "        ...,\n",
       "        [  2, 134, 225],\n",
       "        [  2, 134, 225],\n",
       "        [  2, 134, 225]],\n",
       "\n",
       "       [[  3, 161, 231],\n",
       "        [  3, 161, 231],\n",
       "        [  3, 161, 231],\n",
       "        ...,\n",
       "        [  2, 134, 225],\n",
       "        [  2, 134, 225],\n",
       "        [  2, 134, 225]],\n",
       "\n",
       "       ...,\n",
       "\n",
       "       [[126, 132,  42],\n",
       "        [126, 132,  42],\n",
       "        [142, 142,  60],\n",
       "        ...,\n",
       "        [ 11,  27,   9],\n",
       "        [ 11,  27,   9],\n",
       "        [ 25,  42,   5]],\n",
       "\n",
       "       [[ 39,  57,   6],\n",
       "        [126, 132,  42],\n",
       "        [126, 132,  42],\n",
       "        ...,\n",
       "        [ 67,  86,   8],\n",
       "        [ 39,  57,   6],\n",
       "        [ 39,  57,   6]],\n",
       "\n",
       "       [[126, 132,  42],\n",
       "        [166, 162,  71],\n",
       "        [108, 120,  36],\n",
       "        ...,\n",
       "        [ 46,  61,  25],\n",
       "        [ 11,  27,   9],\n",
       "        [  2,   9,   4]]], dtype=uint8)"
      ]
     },
     "execution_count": 23,
     "metadata": {},
     "output_type": "execute_result"
    }
   ],
   "source": [
    "#Reshape the image to original size\n",
    "compressed_image = compressed_image.reshape(rows, cols, 3)\n",
    "compressed_image"
   ]
  },
  {
   "cell_type": "code",
   "execution_count": 24,
   "metadata": {},
   "outputs": [],
   "source": [
    "#Write the compressed image to output\n",
    "imageio.imsave('compressed_image_64.jpg', compressed_image)"
   ]
  },
  {
   "cell_type": "code",
   "execution_count": null,
   "metadata": {},
   "outputs": [],
   "source": []
  }
 ],
 "metadata": {
  "kernelspec": {
   "display_name": "Python 3",
   "language": "python",
   "name": "python3"
  },
  "language_info": {
   "codemirror_mode": {
    "name": "ipython",
    "version": 3
   },
   "file_extension": ".py",
   "mimetype": "text/x-python",
   "name": "python",
   "nbconvert_exporter": "python",
   "pygments_lexer": "ipython3",
   "version": "3.7.1"
  }
 },
 "nbformat": 4,
 "nbformat_minor": 2
}
